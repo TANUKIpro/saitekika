{
 "cells": [
  {
   "cell_type": "code",
   "execution_count": 13,
   "metadata": {},
   "outputs": [],
   "source": [
    "import numpy as np\n",
    "from graphviz import Graph, Digraph"
   ]
  },
  {
   "cell_type": "markdown",
   "metadata": {},
   "source": [
    "## 隣接行列を使った最小コスト経路の探索"
   ]
  },
  {
   "cell_type": "code",
   "execution_count": 14,
   "metadata": {},
   "outputs": [],
   "source": [
    "##  既知情報 ##\n",
    "node_num = 5\n",
    "edge_num = 6\n",
    "## 隣接行列\n",
    "vertics = np.array([[0, 1, 1, 0, 0],   #0\n",
    "                                  [1, 0, 0, 1, 0],   #1\n",
    "                                  [1, 0, 0, 1, 1],   #2\n",
    "                                  [0, 1, 1, 0, 1],   #3\n",
    "                                  [0, 0, 1, 1, 0]]) #4\n",
    "\n",
    "weight  = np.array([[  0,   6,   5,   0,    0],     #0\n",
    "                                   [  6,   0,   0,   6,    0],    #1\n",
    "                                   [  5,   0,   0, 10, 10],    #2\n",
    "                                   [  0,   6, 10,   0,    7],   #3\n",
    "                                   [  0,   0, 10,   7,    0]]) #4\n",
    "## 探索条件\n",
    "con_start = 0\n",
    "con_goal  = 3\n",
    "con_allow_cost = 13"
   ]
  },
  {
   "cell_type": "code",
   "execution_count": 15,
   "metadata": {},
   "outputs": [],
   "source": [
    "## 便利関数 ##\n",
    "## 配列(ver)を渡せば、対応するノードの番号を返す\n",
    "def getVerBoolian(ver):\n",
    "    path = []\n",
    "    for i, ver_bool in enumerate(ver):\n",
    "        if bool(ver_bool):\n",
    "            path.append(i)\n",
    "    return path\n",
    "\n",
    "## startからgoalまでのコストをweight配列を参照して返す\n",
    "def getCost(start, goal, targetWeight=weight):\n",
    "    return targetWeight[start][goal]\n",
    "\n",
    "## 任意のノードと接続してるノードとのコストを返す(verticsと同じ並び順)\n",
    "def getConnectedNodesCost(node_num, val=0, targetWeight=weight):\n",
    "    return (targetWeight[node_num][targetWeight[node_num]!=val]).tolist()\n",
    "\n",
    "#print(getVerBoolian(vertics[0]))\n",
    "#print(getConnectedNodesCost(0))\n",
    "#print(getCost(0, 1))"
   ]
  },
  {
   "cell_type": "code",
   "execution_count": 16,
   "metadata": {},
   "outputs": [],
   "source": [
    "## グラフ構造のヴィジュアライズ\n",
    "graph = Graph(format='png', engine='fdp')\n",
    "\n",
    "## ノードの作成\n",
    "for i in range(node_num):\n",
    "    if i == con_start:\n",
    "        graph.attr(\"node\", shape='circle', color=\"green\", fontcolor=\"green\")\n",
    "    elif i == con_goal:\n",
    "        graph.attr(\"node\", shape='circle', color=\"red\", fontcolor=\"red\")\n",
    "    else:\n",
    "        graph.attr(\"node\", shape='circle', color=\"black\", fontcolor=\"black\")\n",
    "    graph.node(str(i))\n",
    "\n",
    "## エッジの作成\n",
    "for i in range(node_num):\n",
    "    for j in getVerBoolian(vertics[i]):\n",
    "        cost = getCost(i, j)\n",
    "        graph.edge(str(i), str(j), label=str(getCost(i, j)))\n",
    "        #print(i, j)\n",
    "\n",
    "#graph.render(\"ngraphs\")\n",
    "#display(graph)"
   ]
  },
  {
   "cell_type": "code",
   "execution_count": 17,
   "metadata": {},
   "outputs": [
    {
     "name": "stdout",
     "output_type": "stream",
     "text": [
      "Conditions met : 0 -> 1 -> 3, total 12\n"
     ]
    }
   ],
   "source": [
    "## 探索\n",
    "for node in np.where(vertics[con_start]==1)[0]:\n",
    "    if (node != con_start) and (node != con_goal):\n",
    "        total_cost = getCost(con_start, node) + getCost(node, con_goal)\n",
    "        if total_cost <= con_allow_cost:\n",
    "            print(\"Conditions met : {0} -> {1} -> {2}, total {3}\".format(con_start, node, con_goal, total_cost))"
   ]
  },
  {
   "cell_type": "markdown",
   "metadata": {},
   "source": [
    "## 隣接リストを使った最小コスト経路の探索"
   ]
  },
  {
   "cell_type": "code",
   "execution_count": 6,
   "metadata": {},
   "outputs": [],
   "source": [
    "## 構造体の作成(class)\n",
    "class Node:\n",
    "    def __init__(self, to, weight):\n",
    "        self.to = to\n",
    "        self.size = len(self.to)\n",
    "        self.weight = weight"
   ]
  },
  {
   "cell_type": "code",
   "execution_count": 7,
   "metadata": {},
   "outputs": [
    {
     "name": "stdout",
     "output_type": "stream",
     "text": [
      "0 [1, 2] [6, 5]\n",
      "1 [0, 3] [6, 6]\n",
      "2 [0, 3, 4] [5, 10, 10]\n",
      "3 [1, 2, 4] [6, 10, 7]\n",
      "4 [2, 3] [10, 7]\n"
     ]
    },
    {
     "data": {
      "text/plain": [
       "[<__main__.Node at 0x7fbd0860af90>,\n",
       " <__main__.Node at 0x7fbd08603150>,\n",
       " <__main__.Node at 0x7fbd08603750>,\n",
       " <__main__.Node at 0x7fbd08603b50>,\n",
       " <__main__.Node at 0x7fbd08603f50>]"
      ]
     },
     "execution_count": 7,
     "metadata": {},
     "output_type": "execute_result"
    }
   ],
   "source": [
    "## 隣接行列->隣接リスト\n",
    "graph = []\n",
    "for i in range(node_num):\n",
    "    to         = getVerBoolian(vertics[i])\n",
    "    weight = getConnectedNodesCost(i)\n",
    "    \n",
    "    nd = Node(to, weight)\n",
    "    print(i, nd.to, nd.weight)\n",
    "    graph.append(nd)\n",
    "graph"
   ]
  },
  {
   "cell_type": "code",
   "execution_count": 8,
   "metadata": {},
   "outputs": [
    {
     "name": "stdout",
     "output_type": "stream",
     "text": [
      "Conditions met : 0 -> 1 -> 3, total 12\n"
     ]
    }
   ],
   "source": [
    "## 探索\n",
    "for i, inside in enumerate(graph[con_start].to):\n",
    "    goal_index = np.where(np.array(graph[inside].to)==con_goal)[0][0]\n",
    "    total_cost = graph[con_start].weight[i] + graph[inside].weight[goal_index]\n",
    "    if total_cost <= con_allow_cost:\n",
    "        print(\"Conditions met : {0} -> {1} -> {2}, total {3}\".format(con_start, inside, con_goal, total_cost))"
   ]
  },
  {
   "cell_type": "markdown",
   "metadata": {},
   "source": [
    "## 深さ優先探索"
   ]
  },
  {
   "cell_type": "code",
   "execution_count": 31,
   "metadata": {},
   "outputs": [],
   "source": [
    "##  既知情報  ##\n",
    "node_num = 15\n",
    "edge_num = 14\n",
    "\n",
    "edges = [(0, 1), (1, 2), (1, 3),\n",
    "                 (0, 4), (4, 5), (5, 6), (5, 7), (4, 8), (8, 9), (8, 10),\n",
    "                 (0, 11), (11, 12), (11, 13), (13, 14)]\n",
    "np_edges = np.array(edges)\n",
    "\n",
    "## 探索条件\n",
    "con_start = 0\n",
    "con_goal = 14"
   ]
  },
  {
   "cell_type": "code",
   "execution_count": 10,
   "metadata": {},
   "outputs": [
    {
     "data": {
      "image/svg+xml": [
       "<?xml version=\"1.0\" encoding=\"UTF-8\" standalone=\"no\"?>\n",
       "<!DOCTYPE svg PUBLIC \"-//W3C//DTD SVG 1.1//EN\"\n",
       " \"http://www.w3.org/Graphics/SVG/1.1/DTD/svg11.dtd\">\n",
       "<!-- Generated by graphviz version 2.47.1 (20210417.1919)\n",
       " -->\n",
       "<!-- Pages: 1 -->\n",
       "<svg width=\"422pt\" height=\"260pt\"\n",
       " viewBox=\"0.00 0.00 422.00 260.00\" xmlns=\"http://www.w3.org/2000/svg\" xmlns:xlink=\"http://www.w3.org/1999/xlink\">\n",
       "<g id=\"graph0\" class=\"graph\" transform=\"scale(1 1) rotate(0) translate(4 256)\">\n",
       "<polygon fill=\"white\" stroke=\"transparent\" points=\"-4,4 -4,-256 418,-256 418,4 -4,4\"/>\n",
       "<!-- 0 -->\n",
       "<g id=\"node1\" class=\"node\">\n",
       "<title>0</title>\n",
       "<ellipse fill=\"none\" stroke=\"green\" cx=\"207\" cy=\"-234\" rx=\"27\" ry=\"18\"/>\n",
       "<text text-anchor=\"middle\" x=\"207\" y=\"-230.3\" font-family=\"Times,serif\" font-size=\"14.00\" fill=\"green\">0</text>\n",
       "</g>\n",
       "<!-- 1 -->\n",
       "<g id=\"node2\" class=\"node\">\n",
       "<title>1</title>\n",
       "<ellipse fill=\"none\" stroke=\"black\" cx=\"99\" cy=\"-162\" rx=\"27\" ry=\"18\"/>\n",
       "<text text-anchor=\"middle\" x=\"99\" y=\"-158.3\" font-family=\"Times,serif\" font-size=\"14.00\">1</text>\n",
       "</g>\n",
       "<!-- 0&#45;&gt;1 -->\n",
       "<g id=\"edge1\" class=\"edge\">\n",
       "<title>0&#45;&gt;1</title>\n",
       "<path fill=\"none\" stroke=\"black\" d=\"M188.19,-220.81C171,-209.67 145.38,-193.06 126.01,-180.5\"/>\n",
       "<polygon fill=\"black\" stroke=\"black\" points=\"127.89,-177.56 117.6,-175.05 124.08,-183.43 127.89,-177.56\"/>\n",
       "</g>\n",
       "<!-- 4 -->\n",
       "<g id=\"node5\" class=\"node\">\n",
       "<title>4</title>\n",
       "<ellipse fill=\"none\" stroke=\"black\" cx=\"207\" cy=\"-162\" rx=\"27\" ry=\"18\"/>\n",
       "<text text-anchor=\"middle\" x=\"207\" y=\"-158.3\" font-family=\"Times,serif\" font-size=\"14.00\">4</text>\n",
       "</g>\n",
       "<!-- 0&#45;&gt;4 -->\n",
       "<g id=\"edge4\" class=\"edge\">\n",
       "<title>0&#45;&gt;4</title>\n",
       "<path fill=\"none\" stroke=\"black\" d=\"M207,-215.7C207,-207.98 207,-198.71 207,-190.11\"/>\n",
       "<polygon fill=\"black\" stroke=\"black\" points=\"210.5,-190.1 207,-180.1 203.5,-190.1 210.5,-190.1\"/>\n",
       "</g>\n",
       "<!-- 11 -->\n",
       "<g id=\"node12\" class=\"node\">\n",
       "<title>11</title>\n",
       "<ellipse fill=\"none\" stroke=\"black\" cx=\"315\" cy=\"-162\" rx=\"27\" ry=\"18\"/>\n",
       "<text text-anchor=\"middle\" x=\"315\" y=\"-158.3\" font-family=\"Times,serif\" font-size=\"14.00\">11</text>\n",
       "</g>\n",
       "<!-- 0&#45;&gt;11 -->\n",
       "<g id=\"edge11\" class=\"edge\">\n",
       "<title>0&#45;&gt;11</title>\n",
       "<path fill=\"none\" stroke=\"black\" d=\"M225.81,-220.81C243,-209.67 268.62,-193.06 287.99,-180.5\"/>\n",
       "<polygon fill=\"black\" stroke=\"black\" points=\"289.92,-183.43 296.4,-175.05 286.11,-177.56 289.92,-183.43\"/>\n",
       "</g>\n",
       "<!-- 2 -->\n",
       "<g id=\"node3\" class=\"node\">\n",
       "<title>2</title>\n",
       "<ellipse fill=\"none\" stroke=\"black\" cx=\"27\" cy=\"-90\" rx=\"27\" ry=\"18\"/>\n",
       "<text text-anchor=\"middle\" x=\"27\" y=\"-86.3\" font-family=\"Times,serif\" font-size=\"14.00\">2</text>\n",
       "</g>\n",
       "<!-- 1&#45;&gt;2 -->\n",
       "<g id=\"edge2\" class=\"edge\">\n",
       "<title>1&#45;&gt;2</title>\n",
       "<path fill=\"none\" stroke=\"black\" d=\"M84.43,-146.83C74.25,-136.94 60.48,-123.55 48.97,-112.36\"/>\n",
       "<polygon fill=\"black\" stroke=\"black\" points=\"51.41,-109.85 41.8,-105.38 46.53,-114.87 51.41,-109.85\"/>\n",
       "</g>\n",
       "<!-- 3 -->\n",
       "<g id=\"node4\" class=\"node\">\n",
       "<title>3</title>\n",
       "<ellipse fill=\"none\" stroke=\"black\" cx=\"99\" cy=\"-90\" rx=\"27\" ry=\"18\"/>\n",
       "<text text-anchor=\"middle\" x=\"99\" y=\"-86.3\" font-family=\"Times,serif\" font-size=\"14.00\">3</text>\n",
       "</g>\n",
       "<!-- 1&#45;&gt;3 -->\n",
       "<g id=\"edge3\" class=\"edge\">\n",
       "<title>1&#45;&gt;3</title>\n",
       "<path fill=\"none\" stroke=\"black\" d=\"M99,-143.7C99,-135.98 99,-126.71 99,-118.11\"/>\n",
       "<polygon fill=\"black\" stroke=\"black\" points=\"102.5,-118.1 99,-108.1 95.5,-118.1 102.5,-118.1\"/>\n",
       "</g>\n",
       "<!-- 5 -->\n",
       "<g id=\"node6\" class=\"node\">\n",
       "<title>5</title>\n",
       "<ellipse fill=\"none\" stroke=\"black\" cx=\"171\" cy=\"-90\" rx=\"27\" ry=\"18\"/>\n",
       "<text text-anchor=\"middle\" x=\"171\" y=\"-86.3\" font-family=\"Times,serif\" font-size=\"14.00\">5</text>\n",
       "</g>\n",
       "<!-- 4&#45;&gt;5 -->\n",
       "<g id=\"edge5\" class=\"edge\">\n",
       "<title>4&#45;&gt;5</title>\n",
       "<path fill=\"none\" stroke=\"black\" d=\"M198.65,-144.76C194.29,-136.28 188.85,-125.71 183.96,-116.2\"/>\n",
       "<polygon fill=\"black\" stroke=\"black\" points=\"186.99,-114.44 179.3,-107.15 180.77,-117.64 186.99,-114.44\"/>\n",
       "</g>\n",
       "<!-- 8 -->\n",
       "<g id=\"node9\" class=\"node\">\n",
       "<title>8</title>\n",
       "<ellipse fill=\"none\" stroke=\"black\" cx=\"243\" cy=\"-90\" rx=\"27\" ry=\"18\"/>\n",
       "<text text-anchor=\"middle\" x=\"243\" y=\"-86.3\" font-family=\"Times,serif\" font-size=\"14.00\">8</text>\n",
       "</g>\n",
       "<!-- 4&#45;&gt;8 -->\n",
       "<g id=\"edge8\" class=\"edge\">\n",
       "<title>4&#45;&gt;8</title>\n",
       "<path fill=\"none\" stroke=\"black\" d=\"M215.35,-144.76C219.71,-136.28 225.15,-125.71 230.04,-116.2\"/>\n",
       "<polygon fill=\"black\" stroke=\"black\" points=\"233.23,-117.64 234.7,-107.15 227.01,-114.44 233.23,-117.64\"/>\n",
       "</g>\n",
       "<!-- 6 -->\n",
       "<g id=\"node7\" class=\"node\">\n",
       "<title>6</title>\n",
       "<ellipse fill=\"none\" stroke=\"black\" cx=\"99\" cy=\"-18\" rx=\"27\" ry=\"18\"/>\n",
       "<text text-anchor=\"middle\" x=\"99\" y=\"-14.3\" font-family=\"Times,serif\" font-size=\"14.00\">6</text>\n",
       "</g>\n",
       "<!-- 5&#45;&gt;6 -->\n",
       "<g id=\"edge6\" class=\"edge\">\n",
       "<title>5&#45;&gt;6</title>\n",
       "<path fill=\"none\" stroke=\"black\" d=\"M156.43,-74.83C146.25,-64.94 132.48,-51.55 120.97,-40.36\"/>\n",
       "<polygon fill=\"black\" stroke=\"black\" points=\"123.41,-37.85 113.8,-33.38 118.53,-42.87 123.41,-37.85\"/>\n",
       "</g>\n",
       "<!-- 7 -->\n",
       "<g id=\"node8\" class=\"node\">\n",
       "<title>7</title>\n",
       "<ellipse fill=\"none\" stroke=\"black\" cx=\"171\" cy=\"-18\" rx=\"27\" ry=\"18\"/>\n",
       "<text text-anchor=\"middle\" x=\"171\" y=\"-14.3\" font-family=\"Times,serif\" font-size=\"14.00\">7</text>\n",
       "</g>\n",
       "<!-- 5&#45;&gt;7 -->\n",
       "<g id=\"edge7\" class=\"edge\">\n",
       "<title>5&#45;&gt;7</title>\n",
       "<path fill=\"none\" stroke=\"black\" d=\"M171,-71.7C171,-63.98 171,-54.71 171,-46.11\"/>\n",
       "<polygon fill=\"black\" stroke=\"black\" points=\"174.5,-46.1 171,-36.1 167.5,-46.1 174.5,-46.1\"/>\n",
       "</g>\n",
       "<!-- 9 -->\n",
       "<g id=\"node10\" class=\"node\">\n",
       "<title>9</title>\n",
       "<ellipse fill=\"none\" stroke=\"black\" cx=\"243\" cy=\"-18\" rx=\"27\" ry=\"18\"/>\n",
       "<text text-anchor=\"middle\" x=\"243\" y=\"-14.3\" font-family=\"Times,serif\" font-size=\"14.00\">9</text>\n",
       "</g>\n",
       "<!-- 8&#45;&gt;9 -->\n",
       "<g id=\"edge9\" class=\"edge\">\n",
       "<title>8&#45;&gt;9</title>\n",
       "<path fill=\"none\" stroke=\"black\" d=\"M243,-71.7C243,-63.98 243,-54.71 243,-46.11\"/>\n",
       "<polygon fill=\"black\" stroke=\"black\" points=\"246.5,-46.1 243,-36.1 239.5,-46.1 246.5,-46.1\"/>\n",
       "</g>\n",
       "<!-- 10 -->\n",
       "<g id=\"node11\" class=\"node\">\n",
       "<title>10</title>\n",
       "<ellipse fill=\"none\" stroke=\"black\" cx=\"315\" cy=\"-18\" rx=\"27\" ry=\"18\"/>\n",
       "<text text-anchor=\"middle\" x=\"315\" y=\"-14.3\" font-family=\"Times,serif\" font-size=\"14.00\">10</text>\n",
       "</g>\n",
       "<!-- 8&#45;&gt;10 -->\n",
       "<g id=\"edge10\" class=\"edge\">\n",
       "<title>8&#45;&gt;10</title>\n",
       "<path fill=\"none\" stroke=\"black\" d=\"M257.57,-74.83C267.75,-64.94 281.52,-51.55 293.03,-40.36\"/>\n",
       "<polygon fill=\"black\" stroke=\"black\" points=\"295.47,-42.87 300.2,-33.38 290.59,-37.85 295.47,-42.87\"/>\n",
       "</g>\n",
       "<!-- 12 -->\n",
       "<g id=\"node13\" class=\"node\">\n",
       "<title>12</title>\n",
       "<ellipse fill=\"none\" stroke=\"black\" cx=\"315\" cy=\"-90\" rx=\"27\" ry=\"18\"/>\n",
       "<text text-anchor=\"middle\" x=\"315\" y=\"-86.3\" font-family=\"Times,serif\" font-size=\"14.00\">12</text>\n",
       "</g>\n",
       "<!-- 11&#45;&gt;12 -->\n",
       "<g id=\"edge12\" class=\"edge\">\n",
       "<title>11&#45;&gt;12</title>\n",
       "<path fill=\"none\" stroke=\"black\" d=\"M315,-143.7C315,-135.98 315,-126.71 315,-118.11\"/>\n",
       "<polygon fill=\"black\" stroke=\"black\" points=\"318.5,-118.1 315,-108.1 311.5,-118.1 318.5,-118.1\"/>\n",
       "</g>\n",
       "<!-- 13 -->\n",
       "<g id=\"node14\" class=\"node\">\n",
       "<title>13</title>\n",
       "<ellipse fill=\"none\" stroke=\"black\" cx=\"387\" cy=\"-90\" rx=\"27\" ry=\"18\"/>\n",
       "<text text-anchor=\"middle\" x=\"387\" y=\"-86.3\" font-family=\"Times,serif\" font-size=\"14.00\">13</text>\n",
       "</g>\n",
       "<!-- 11&#45;&gt;13 -->\n",
       "<g id=\"edge13\" class=\"edge\">\n",
       "<title>11&#45;&gt;13</title>\n",
       "<path fill=\"none\" stroke=\"black\" d=\"M329.57,-146.83C339.75,-136.94 353.52,-123.55 365.03,-112.36\"/>\n",
       "<polygon fill=\"black\" stroke=\"black\" points=\"367.47,-114.87 372.2,-105.38 362.59,-109.85 367.47,-114.87\"/>\n",
       "</g>\n",
       "<!-- 14 -->\n",
       "<g id=\"node15\" class=\"node\">\n",
       "<title>14</title>\n",
       "<ellipse fill=\"none\" stroke=\"red\" cx=\"387\" cy=\"-18\" rx=\"27\" ry=\"18\"/>\n",
       "<text text-anchor=\"middle\" x=\"387\" y=\"-14.3\" font-family=\"Times,serif\" font-size=\"14.00\" fill=\"red\">14</text>\n",
       "</g>\n",
       "<!-- 13&#45;&gt;14 -->\n",
       "<g id=\"edge14\" class=\"edge\">\n",
       "<title>13&#45;&gt;14</title>\n",
       "<path fill=\"none\" stroke=\"black\" d=\"M387,-71.7C387,-63.98 387,-54.71 387,-46.11\"/>\n",
       "<polygon fill=\"black\" stroke=\"black\" points=\"390.5,-46.1 387,-36.1 383.5,-46.1 390.5,-46.1\"/>\n",
       "</g>\n",
       "</g>\n",
       "</svg>\n"
      ],
      "text/plain": [
       "<graphviz.dot.Digraph at 0x7fbd085ed2d0>"
      ]
     },
     "metadata": {},
     "output_type": "display_data"
    }
   ],
   "source": [
    "## グラフ構造のヴィジュアライズ\n",
    "graph = Digraph(format='png')\n",
    "\n",
    "## ノードの作成\n",
    "for i in range(node_num):\n",
    "    if i == con_start:\n",
    "        graph.attr(\"node\", color=\"green\", fontcolor=\"green\")\n",
    "    elif i == con_goal:\n",
    "        graph.attr(\"node\", color=\"red\", fontcolor=\"red\")\n",
    "    else:\n",
    "        graph.attr(\"node\", color=\"black\", fontcolor=\"black\")\n",
    "    graph.node(str(i))\n",
    "\n",
    "## エッジの作成\n",
    "for i, j in edges:\n",
    "    graph.edge(str(i), str(j))\n",
    "\n",
    "graph.render(\"tree\")\n",
    "display(graph)"
   ]
  },
  {
   "cell_type": "code",
   "execution_count": 40,
   "metadata": {},
   "outputs": [],
   "source": [
    "## Nodeクラスを改造\n",
    "\n",
    "##~~status(str)~~\n",
    "##white:未訪問\n",
    "##gray:訪問済みだが、隣接する頂点を調べ終わっていない\n",
    "##black:訪問済みで、隣接する頂点も全て調べた\n",
    "class Node:\n",
    "    def __init__(self, to, weight=\"1\", status=\"white\"):\n",
    "        self.to = to\n",
    "        self.weight = weight\n",
    "        self.status = status"
   ]
  },
  {
   "cell_type": "code",
   "execution_count": 54,
   "metadata": {},
   "outputs": [
    {
     "data": {
      "text/plain": [
       "[<__main__.Node at 0x7fbd0a8cd810>,\n",
       " <__main__.Node at 0x7fbd0a8cd3d0>,\n",
       " <__main__.Node at 0x7fbd0a8cd610>,\n",
       " <__main__.Node at 0x7fbd0a8ef490>,\n",
       " <__main__.Node at 0x7fbd0a8ef310>,\n",
       " <__main__.Node at 0x7fbd0a8efa10>,\n",
       " <__main__.Node at 0x7fbd0a8ef590>,\n",
       " <__main__.Node at 0x7fbd0a8efcd0>,\n",
       " <__main__.Node at 0x7fbd0a870650>,\n",
       " <__main__.Node at 0x7fbd0a8efad0>,\n",
       " <__main__.Node at 0x7fbd0a870990>,\n",
       " <__main__.Node at 0x7fbd0a8701d0>,\n",
       " <__main__.Node at 0x7fbd0a8703d0>,\n",
       " <__main__.Node at 0x7fbd0a870b90>,\n",
       " <__main__.Node at 0x7fbd0a870bd0>]"
      ]
     },
     "execution_count": 54,
     "metadata": {},
     "output_type": "execute_result"
    }
   ],
   "source": [
    "#ノードリストの作成\n",
    "nodes = []\n",
    "for i in range(node_num):\n",
    "    matched_indexes = np.where(np_edges[:,0]==i)\n",
    "    element = np_edges[matched_indexes][:,1]\n",
    "    \n",
    "    nd = Node(element,  weight=\"1\", status=\"white\")\n",
    "    nodes.append(nd)\n",
    "nodes"
   ]
  },
  {
   "cell_type": "code",
   "execution_count": 73,
   "metadata": {},
   "outputs": [],
   "source": [
    "#initialization\n",
    "stack = nodes[con_start].to.tolist()"
   ]
  },
  {
   "cell_type": "code",
   "execution_count": 74,
   "metadata": {},
   "outputs": [
    {
     "data": {
      "text/plain": [
       "[1, 4, 11]"
      ]
     },
     "execution_count": 74,
     "metadata": {},
     "output_type": "execute_result"
    }
   ],
   "source": [
    "stack"
   ]
  },
  {
   "cell_type": "code",
   "execution_count": null,
   "metadata": {},
   "outputs": [],
   "source": [
    "while True:\n",
    "    poped_num = stack.pop()\n",
    "    color = nodes[poped_num].status\n",
    "    if color == \"white\":\n",
    "        stack.append(node[poped_num].to)\n",
    "        continue\n",
    "    elif color == \"gray\":\n",
    "        pass\n",
    "    elif color == \"black\":\n",
    "        pass"
   ]
  }
 ],
 "metadata": {
  "kernelspec": {
   "display_name": "Python 3",
   "language": "python",
   "name": "python3"
  },
  "language_info": {
   "codemirror_mode": {
    "name": "ipython",
    "version": 3
   },
   "file_extension": ".py",
   "mimetype": "text/x-python",
   "name": "python",
   "nbconvert_exporter": "python",
   "pygments_lexer": "ipython3",
   "version": "3.7.7"
  }
 },
 "nbformat": 4,
 "nbformat_minor": 4
}
