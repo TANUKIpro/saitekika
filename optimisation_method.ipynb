{
 "cells": [
  {
   "cell_type": "code",
   "execution_count": 114,
   "metadata": {},
   "outputs": [],
   "source": [
    "import numpy as np\n",
    "\n",
    "node_num = 5\n",
    "\n",
    "vertics = np.array([[0, 1, 1, 0, 0],   #0\n",
    "                                  [1, 0, 0, 1, 0],   #1\n",
    "                                  [1, 0, 0, 1, 1],   #2\n",
    "                                  [0, 1, 1, 0, 1],   #3\n",
    "                                  [0, 0, 1, 1, 0]]) #4\n",
    "\n",
    "weight  = np.array([[  0,   6,   5,   0,    0],     #0\n",
    "                                   [  6,   0,   0,   6,    0],    #1\n",
    "                                   [  5,   0,   0, 10, 10],    #2\n",
    "                                   [  0,   6, 10,   0,    7],   #3\n",
    "                                   [  0,   0, 10,   7,    0]]) #4"
   ]
  },
  {
   "cell_type": "code",
   "execution_count": 115,
   "metadata": {},
   "outputs": [
    {
     "name": "stdout",
     "output_type": "stream",
     "text": [
      "[1, 2]\n",
      "[6, 5]\n",
      "6\n"
     ]
    }
   ],
   "source": [
    "## 配列(ver)を渡せば、対応するノードの番号を返す##\n",
    "def getVerBoolian(ver):\n",
    "    path = []\n",
    "    for i, ver_bool in enumerate(ver):\n",
    "        if bool(ver_bool):\n",
    "            path.append(i)\n",
    "    return path\n",
    "\n",
    "## startからgoalまでのコストをweight配列を参照して返す ##\n",
    "def getCost(start, goal, targetWeight=weight):\n",
    "    return targetWeight[start][goal]\n",
    "\n",
    "## 任意のノードが接続してるノード間のコストを返す(verticsと同じ並び順) ##\n",
    "def getConnectedNodesCost(node_num, val=0, targetWeight=weight):\n",
    "    return (targetWeight[node_num][targetWeight[node_num]!=val]).tolist()\n",
    "\n",
    "print(getVerBoolian(vertics[0]))\n",
    "print(getConnectedNodesCost(0))\n",
    "print(getCost(0, 1))"
   ]
  },
  {
   "cell_type": "code",
   "execution_count": null,
   "metadata": {},
   "outputs": [],
   "source": []
  },
  {
   "cell_type": "code",
   "execution_count": 116,
   "metadata": {},
   "outputs": [
    {
     "name": "stdout",
     "output_type": "stream",
     "text": [
      "Conditions met : 0 -> 1 -> 3, total 12\n"
     ]
    }
   ],
   "source": [
    "##  Known info  ##\n",
    "con_start = 0\n",
    "con_goal  = 3\n",
    "con_allow_cost = 13\n",
    "\n",
    "for node in np.where(vertics[con_start]==1)[0]:\n",
    "    if (node != con_start) and (node != con_goal):\n",
    "        total_cost = getCost(con_start, node) + getCost(node, con_goal)\n",
    "        if total_cost <= con_allow_cost:\n",
    "            print(\"Conditions met : {0} -> {1} -> {2}, total {3}\".format(con_start, node, con_goal, total_cost))"
   ]
  },
  {
   "cell_type": "markdown",
   "metadata": {},
   "source": [
    "### -----------------------------------------------------------------------------------------------------------------------\n",
    "<br><br>"
   ]
  },
  {
   "cell_type": "code",
   "execution_count": 117,
   "metadata": {},
   "outputs": [],
   "source": [
    "class Node:\n",
    "    def __init__(self, to, weight):\n",
    "        self.to = to\n",
    "        self.size = len(self.to)\n",
    "        self.weight = weight"
   ]
  },
  {
   "cell_type": "code",
   "execution_count": 118,
   "metadata": {},
   "outputs": [
    {
     "name": "stdout",
     "output_type": "stream",
     "text": [
      "0 [1, 2] [6, 5]\n",
      "1 [0, 3] [6, 6]\n",
      "2 [0, 3, 4] [5, 10, 10]\n",
      "3 [1, 2, 4] [6, 10, 7]\n",
      "4 [2, 3] [10, 7]\n"
     ]
    },
    {
     "data": {
      "text/plain": [
       "[<__main__.Node at 0x7fc0ff60c790>,\n",
       " <__main__.Node at 0x7fc0ff60cc10>,\n",
       " <__main__.Node at 0x7fc0fd694150>,\n",
       " <__main__.Node at 0x7fc0fd67ec50>,\n",
       " <__main__.Node at 0x7fc0fecc7e10>]"
      ]
     },
     "execution_count": 118,
     "metadata": {},
     "output_type": "execute_result"
    }
   ],
   "source": [
    "graph = []\n",
    "for i in range(node_num):\n",
    "    to         = getVerBoolian(vertics[i])\n",
    "    weight = getConnectedNodesCost(i)\n",
    "    \n",
    "    nd = Node(to, weight)\n",
    "    print(i, nd.to, nd.weight)\n",
    "    graph.append(nd)\n",
    "graph"
   ]
  },
  {
   "cell_type": "code",
   "execution_count": 119,
   "metadata": {},
   "outputs": [
    {
     "name": "stdout",
     "output_type": "stream",
     "text": [
      "Conditions met : 0 -> 1 -> 3, total 12\n"
     ]
    }
   ],
   "source": [
    "for i, inside in enumerate(graph[con_start].to):\n",
    "    goal_index = np.where(np.array(graph[inside].to)==con_goal)[0][0]\n",
    "    total_cost = graph[con_start].weight[i] + graph[inside].weight[goal_index]\n",
    "    if total_cost <= con_allow_cost:\n",
    "        print(\"Conditions met : {0} -> {1} -> {2}, total {3}\".format(con_start, inside, con_goal, total_cost))"
   ]
  },
  {
   "cell_type": "code",
   "execution_count": 120,
   "metadata": {},
   "outputs": [
    {
     "data": {
      "text/plain": [
       "[10, 7]"
      ]
     },
     "execution_count": 120,
     "metadata": {},
     "output_type": "execute_result"
    }
   ],
   "source": [
    "graph[4].weight"
   ]
  },
  {
   "cell_type": "code",
   "execution_count": null,
   "metadata": {},
   "outputs": [],
   "source": [
    "a = input('>>>')"
   ]
  },
  {
   "cell_type": "code",
   "execution_count": 113,
   "metadata": {},
   "outputs": [
    {
     "data": {
      "text/plain": [
       "'200'"
      ]
     },
     "execution_count": 113,
     "metadata": {},
     "output_type": "execute_result"
    }
   ],
   "source": [
    "a"
   ]
  },
  {
   "cell_type": "code",
   "execution_count": null,
   "metadata": {},
   "outputs": [],
   "source": []
  }
 ],
 "metadata": {
  "kernelspec": {
   "display_name": "Python 3",
   "language": "python",
   "name": "python3"
  },
  "language_info": {
   "codemirror_mode": {
    "name": "ipython",
    "version": 3
   },
   "file_extension": ".py",
   "mimetype": "text/x-python",
   "name": "python",
   "nbconvert_exporter": "python",
   "pygments_lexer": "ipython3",
   "version": "3.7.7"
  }
 },
 "nbformat": 4,
 "nbformat_minor": 4
}
